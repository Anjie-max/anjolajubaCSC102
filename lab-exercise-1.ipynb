{
 "cells": [
  {
   "cell_type": "markdown",
   "metadata": {},
   "source": [
    "# Anjolaoluwa Jolade Juba\n",
    "## 20120612027\n",
    "### Email;anjolaoluwa.juba@pau.edu.ng"
   ]
  },
  {
   "cell_type": "markdown",
   "metadata": {},
   "source": [
    "## Exercise 1\n",
    "#### A python exercise to get the difference between a given number and 17.If the number is greater than 17,return double the absolute difference"
   ]
  },
  {
   "cell_type": "markdown",
   "metadata": {},
   "source": [
    "![First image](images/Exercise1.png)"
   ]
  },
  {
   "cell_type": "code",
   "execution_count": null,
   "metadata": {},
   "outputs": [],
   "source": [
    "number=int(input(\"Pick a random number\"))\n",
    "new_number=number-17\n",
    "if number>17:\n",
    "    print(2*abs(new_number))\n",
    "else:\n",
    "    print(abs(new_number))\n",
    "\n",
    "\n",
    "\n"
   ]
  },
  {
   "cell_type": "code",
   "execution_count": null,
   "metadata": {},
   "outputs": [],
   "source": []
  },
  {
   "cell_type": "markdown",
   "metadata": {},
   "source": [
    "## Exercise 2\n",
    "### A python program to calculate the sum of three given numbers,if the values are equal then return thrice of their sum."
   ]
  },
  {
   "cell_type": "markdown",
   "metadata": {},
   "source": [
    "![Second image](images/Exercise2.png)\n"
   ]
  },
  {
   "cell_type": "code",
   "execution_count": null,
   "metadata": {},
   "outputs": [],
   "source": [
    "a=int(input(\"Pick your first number\"))\n",
    "b=int(input(\"Pick your second number\"))\n",
    "c=int(input(\"Pick your third number\"))\n",
    "\n",
    "if a==b==c:\n",
    "    d=a+b+c\n",
    "    print(d*3)\n",
    "else:\n",
    "    d=a+b+c\n",
    "    print(d)"
   ]
  },
  {
   "cell_type": "markdown",
   "metadata": {},
   "source": [
    "## Exercise 3\n",
    "### To write a python program which will return true if the two given integer values are equal or their sum or difference is 5."
   ]
  },
  {
   "cell_type": "markdown",
   "metadata": {},
   "source": [
    "![Third image](images/Exercise3.png)"
   ]
  },
  {
   "cell_type": "code",
   "execution_count": null,
   "metadata": {},
   "outputs": [],
   "source": [
    "a=int(input(\"Input first number\"))\n",
    "b=int(input(\"Input second number\"))\n",
    "if a==b or a+b==5 or a-b==5:\n",
    "    print(True)\n",
    "\n"
   ]
  },
  {
   "cell_type": "markdown",
   "metadata": {},
   "source": [
    "#### "
   ]
  },
  {
   "cell_type": "markdown",
   "metadata": {},
   "source": [
    "## Exercise 4\n",
    "### To write a python program to sort three integers without using conditional statements and loops"
   ]
  },
  {
   "cell_type": "markdown",
   "metadata": {},
   "source": [
    "![Fourth image](images/Exercise4.png)"
   ]
  },
  {
   "cell_type": "code",
   "execution_count": null,
   "metadata": {},
   "outputs": [],
   "source": [
    "a=int(input(\"Input first number\"))\n",
    "b=int(input(\"Input second number\"))\n",
    "c=int(input(\"Input third number\"))\n",
    "\n",
    "list=[a,b,c]\n",
    "maximum=(max(list))\n",
    "minimum=(min(list))\n",
    "sum=a+b+c\n",
    "middle=sum-maximum-minimum\n",
    "print(middle)"
   ]
  },
  {
   "cell_type": "code",
   "execution_count": null,
   "metadata": {},
   "outputs": [],
   "source": []
  },
  {
   "cell_type": "markdown",
   "metadata": {},
   "source": [
    "## Exercise 5\n",
    "### To write a python function that takes a positive integer and returns the sum of the cube of all the positive integers smaller than the specified number"
   ]
  },
  {
   "cell_type": "markdown",
   "metadata": {},
   "source": [
    "![Fifth image](images/Exercise5.png)"
   ]
  },
  {
   "cell_type": "code",
   "execution_count": 6,
   "metadata": {},
   "outputs": [
    {
     "name": "stdout",
     "output_type": "stream",
     "text": [
      "Insert Positive Integer number12\n",
      "4356\n"
     ]
    }
   ],
   "source": [
    "x=int(input(\"Insert Positive Integer number\"))\n",
    "def numbercube(x):\n",
    "    cube=range(1,x)\n",
    "    result=0\n",
    "    for i in cube:\n",
    "        result=result+(i**3)\n",
    "    if x >=0:\n",
    "        print (result)\n",
    "    else:\n",
    "        print(\"error\")\n",
    "            \n",
    "numbercube(x)\n",
    "\n",
    "    "
   ]
  },
  {
   "cell_type": "code",
   "execution_count": null,
   "metadata": {},
   "outputs": [],
   "source": [
    "\n"
   ]
  },
  {
   "cell_type": "code",
   "execution_count": null,
   "metadata": {},
   "outputs": [],
   "source": []
  }
 ],
 "metadata": {
  "kernelspec": {
   "display_name": "Python 3",
   "language": "python",
   "name": "python3"
  },
  "language_info": {
   "codemirror_mode": {
    "name": "ipython",
    "version": 3
   },
   "file_extension": ".py",
   "mimetype": "text/x-python",
   "name": "python",
   "nbconvert_exporter": "python",
   "pygments_lexer": "ipython3",
   "version": "3.8.5"
  }
 },
 "nbformat": 4,
 "nbformat_minor": 4
}
